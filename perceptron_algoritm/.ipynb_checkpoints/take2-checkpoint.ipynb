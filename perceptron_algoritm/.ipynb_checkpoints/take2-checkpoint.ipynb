{
 "cells": [
  {
   "cell_type": "markdown",
   "metadata": {},
   "source": [
    "## TODO#1: linear functions with pyplot\n",
    "## TODO#2: finish this exercise"
   ]
  },
  {
   "cell_type": "code",
   "execution_count": 1,
   "metadata": {},
   "outputs": [],
   "source": [
    "import numpy as np\n",
    "import pandas as pd\n",
    "import matplotlib.pyplot as plt\n",
    "#import seaborn as sb\n",
    "import csv\n",
    "%matplotlib inline"
   ]
  },
  {
   "cell_type": "code",
   "execution_count": 2,
   "metadata": {},
   "outputs": [],
   "source": [
    "#exampleFile = open('./perceptron_algoritym/data.csv')\n",
    "#exampleReader = csv.reader(exampleFile)\n",
    "#exampleData = list(exampleReader) \n",
    "exampleData=pd.read_csv('./data.csv')\n",
    "df=pd.DataFrame(data=exampleData)\n",
    "yy=df.y\n",
    "dd=pd.DataFrame(df, columns=['X1','X2'])\n"
   ]
  },
  {
   "cell_type": "code",
   "execution_count": 3,
   "metadata": {},
   "outputs": [
    {
     "name": "stdout",
     "output_type": "stream",
     "text": [
      "[0.78051   0.28774   0.40714   0.2923    0.50922   0.27785   0.27527\n",
      " 0.43999   0.33557   0.23448   0.0084492 0.12419   0.25644   0.4591\n",
      " 0.44547   0.42218   0.49563   0.30848   0.39707   0.32945   0.40739\n",
      " 0.3106    0.49638   0.10073   0.69907   0.29767   0.15099   0.16427\n",
      " 0.33259   0.53741   0.19503   0.40278   0.21296   0.48447   0.25476\n",
      " 0.21726   0.67078   0.3815    0.53838   0.4849    0.37095   0.54527\n",
      " 0.32149   0.42216   0.10194   0.15254   0.45558   0.28488   0.27633\n",
      " 0.39748   0.5533    0.44274   0.85176   0.60436   0.68243   1.\n",
      " 0.72989   0.67377   0.78761   0.71442   0.49379   0.78974   0.67905\n",
      " 0.6642    0.79396   0.70758   0.59421   0.49364   0.77707   0.79785\n",
      " 0.70876   0.69176   0.66408   0.65973   0.64574   0.89639   0.85476\n",
      " 0.62091   0.79057   0.58935   0.56846   0.65912   0.70938   0.59154\n",
      " 0.45829   0.79982   0.60974   0.68127   0.76694   0.69048   0.68122\n",
      " 0.73229   0.76145   0.58985   0.73145   0.77029   0.73156   0.44556\n",
      " 0.85275   0.51912  ]\n",
      "        X1        X2  y\n",
      "0  0.78051 -0.063669  1\n",
      "1  0.28774  0.291390  1\n",
      "2  0.40714  0.178780  1\n",
      "3  0.29230  0.421700  1\n",
      "4  0.50922  0.352560  1\n",
      "0    1\n",
      "1    1\n",
      "2    1\n",
      "3    1\n",
      "4    1\n",
      "Name: y, dtype: int64\n"
     ]
    },
    {
     "data": {
      "text/plain": [
       "0.78051"
      ]
     },
     "execution_count": 3,
     "metadata": {},
     "output_type": "execute_result"
    }
   ],
   "source": [
    "\n",
    "print(dd.X1.values)\n",
    "print(df.head())\n",
    "print(yy.head())\n",
    "dd.X1[0]"
   ]
  },
  {
   "cell_type": "code",
   "execution_count": 4,
   "metadata": {},
   "outputs": [
    {
     "data": {
      "text/html": [
       "<div>\n",
       "<style scoped>\n",
       "    .dataframe tbody tr th:only-of-type {\n",
       "        vertical-align: middle;\n",
       "    }\n",
       "\n",
       "    .dataframe tbody tr th {\n",
       "        vertical-align: top;\n",
       "    }\n",
       "\n",
       "    .dataframe thead th {\n",
       "        text-align: right;\n",
       "    }\n",
       "</style>\n",
       "<table border=\"1\" class=\"dataframe\">\n",
       "  <thead>\n",
       "    <tr style=\"text-align: right;\">\n",
       "      <th></th>\n",
       "      <th>X1</th>\n",
       "      <th>X2</th>\n",
       "      <th>y</th>\n",
       "    </tr>\n",
       "  </thead>\n",
       "  <tbody>\n",
       "    <tr>\n",
       "      <th>0</th>\n",
       "      <td>0.78051</td>\n",
       "      <td>-0.063669</td>\n",
       "      <td>1</td>\n",
       "    </tr>\n",
       "    <tr>\n",
       "      <th>1</th>\n",
       "      <td>0.28774</td>\n",
       "      <td>0.291390</td>\n",
       "      <td>1</td>\n",
       "    </tr>\n",
       "    <tr>\n",
       "      <th>2</th>\n",
       "      <td>0.40714</td>\n",
       "      <td>0.178780</td>\n",
       "      <td>1</td>\n",
       "    </tr>\n",
       "    <tr>\n",
       "      <th>3</th>\n",
       "      <td>0.29230</td>\n",
       "      <td>0.421700</td>\n",
       "      <td>1</td>\n",
       "    </tr>\n",
       "    <tr>\n",
       "      <th>4</th>\n",
       "      <td>0.50922</td>\n",
       "      <td>0.352560</td>\n",
       "      <td>1</td>\n",
       "    </tr>\n",
       "  </tbody>\n",
       "</table>\n",
       "</div>"
      ],
      "text/plain": [
       "        X1        X2  y\n",
       "0  0.78051 -0.063669  1\n",
       "1  0.28774  0.291390  1\n",
       "2  0.40714  0.178780  1\n",
       "3  0.29230  0.421700  1\n",
       "4  0.50922  0.352560  1"
      ]
     },
     "execution_count": 4,
     "metadata": {},
     "output_type": "execute_result"
    }
   ],
   "source": [
    "df1=df[df.y==1]\n",
    "df2=df[df.y==0]\n",
    "df1.head()"
   ]
  },
  {
   "cell_type": "markdown",
   "metadata": {},
   "source": [
    "###  // this is an independent part for leaning linear plot"
   ]
  },
  {
   "cell_type": "code",
   "execution_count": 5,
   "metadata": {},
   "outputs": [
    {
     "data": {
      "text/plain": [
       "[<matplotlib.lines.Line2D at 0x2325d934d30>]"
      ]
     },
     "execution_count": 5,
     "metadata": {},
     "output_type": "execute_result"
    },
    {
     "data": {
      "image/png": "[encoded data removed]",
      "text/plain": [
       "<Figure size 432x288 with 1 Axes>"
      ]
     },
     "metadata": {
      "needs_background": "light"
     },
     "output_type": "display_data"
    }
   ],
   "source": [
    "WW = np.array(np.random.rand(10,1))\n",
    "a,b= 1.0,1.0\n",
    "YY=[(a*i+b) for i in WW]\n",
    "plt.plot(WW,YY)"
   ]
  },
  {
   "cell_type": "markdown",
   "metadata": {},
   "source": [
    "###   this is an independent part for leaning linear plot //"
   ]
  },
  {
   "cell_type": "code",
   "execution_count": 5,
   "metadata": {},
   "outputs": [
    {
     "name": "stdout",
     "output_type": "stream",
     "text": [
      "(2, 1)\n",
      "(100, 2)\n"
     ]
    }
   ],
   "source": [
    "np.random.seed(12)\n",
    "Weight = np.array(np.random.rand(2,1))\n",
    "print(Weight.shape)\n",
    "print(dd.values.shape)"
   ]
  },
  {
   "cell_type": "code",
   "execution_count": 6,
   "metadata": {},
   "outputs": [
    {
     "name": "stdout",
     "output_type": "stream",
     "text": [
      "0.15416284237967237\n",
      "[0.22737026]\n",
      "[0.22737026]\n",
      "(100, 1)\n",
      "(2, 1)\n",
      "1.0 1.0\n",
      "10\n",
      "10th row\n",
      "0.0084492\n",
      "55\n",
      "55th row\n",
      "1.0\n"
     ]
    }
   ],
   "source": [
    "np.random.seed(12)\n",
    "# Bias between 0 and 1\n",
    "b= np.random.rand(1)[0]\n",
    "print(b)\n",
    "# multiplication\n",
    "print(Weight[0]*dd.X1[0]+Weight[1]*dd.X2[0]+b)\n",
    "# numPy multiplication\n",
    "predictions=np.matmul(dd.values,Weight)+b\n",
    "#same result\n",
    "print(predictions[0])\n",
    "#shapes of matrices\n",
    "print(predictions.shape)\n",
    "print(Weight.shape)\n",
    "print(max(dd.X1),max(dd.X1))\n",
    "print(dd.X1.idxmin(axis=1))\n",
    "print('10th row')\n",
    "print(dd.loc[10][0])#X1\n",
    "\n",
    "print(dd.X1.idxmax(axis=1))\n",
    "print('55th row')\n",
    "print(dd.loc[55][0])#X1\n",
    "\n",
    "x_min=dd.X1.idxmin(axis=1)\n",
    "x_max=dd.X1.idxmax(axis=1)"
   ]
  },
  {
   "cell_type": "markdown",
   "metadata": {},
   "source": [
    "## coordinates of seperation line (can be refactored)"
   ]
  },
  {
   "cell_type": "code",
   "execution_count": 105,
   "metadata": {},
   "outputs": [
    {
     "data": {
      "text/plain": [
       "array([0. , 0.1, 0.2, 0.3, 0.4, 0.5, 0.6, 0.7, 0.8, 0.9, 1. ])"
      ]
     },
     "execution_count": 105,
     "metadata": {},
     "output_type": "execute_result"
    }
   ],
   "source": [
    "def sepline(predictions,i):\n",
    "    x=np.linspace(0,1,11)\n",
    "    y=[a*i+b]"
   ]
  },
  {
   "cell_type": "code",
   "execution_count": 93,
   "metadata": {},
   "outputs": [],
   "source": [
    "\n",
    "linex1=0#dd.loc[x_min][0]\n",
    "linex2=(-(Weight[0]*linex1)-b)/Weight[1]# y=a*w1+b*w2+bias\n",
    "linex3=1\n",
    "linex4=(-(Weight[0]*linex3)-b)/Weight[1]# y=a*w1+b*w2+bias"
   ]
  },
  {
   "cell_type": "markdown",
   "metadata": {},
   "source": [
    "## calculate the side, calculated sides are in the liste"
   ]
  },
  {
   "cell_type": "code",
   "execution_count": 94,
   "metadata": {},
   "outputs": [
    {
     "data": {
      "text/plain": [
       "[1,\n",
       " 1,\n",
       " 1,\n",
       " 1,\n",
       " 1,\n",
       " 1,\n",
       " 1,\n",
       " 1,\n",
       " 1,\n",
       " 1,\n",
       " 1,\n",
       " 1,\n",
       " 1,\n",
       " 1,\n",
       " 1,\n",
       " 1,\n",
       " 1,\n",
       " 1,\n",
       " 1,\n",
       " 1,\n",
       " 1,\n",
       " 1,\n",
       " 1,\n",
       " 1,\n",
       " 1,\n",
       " 1,\n",
       " 1,\n",
       " 1,\n",
       " 1,\n",
       " 1,\n",
       " 1,\n",
       " 1,\n",
       " 1,\n",
       " 1,\n",
       " 1,\n",
       " 1,\n",
       " 1,\n",
       " 1,\n",
       " 1,\n",
       " 1,\n",
       " 1,\n",
       " 1,\n",
       " 1,\n",
       " 1,\n",
       " 1,\n",
       " 1,\n",
       " 1,\n",
       " 1,\n",
       " 1,\n",
       " 1,\n",
       " 1,\n",
       " 1,\n",
       " 1,\n",
       " 1,\n",
       " 1,\n",
       " 1,\n",
       " 1,\n",
       " 1,\n",
       " 1,\n",
       " 1,\n",
       " 1,\n",
       " 1,\n",
       " 1,\n",
       " 1,\n",
       " 1,\n",
       " 1,\n",
       " 1,\n",
       " 1,\n",
       " 1,\n",
       " 1,\n",
       " 1,\n",
       " 1,\n",
       " 1,\n",
       " 1,\n",
       " 1,\n",
       " 1,\n",
       " 1,\n",
       " 1,\n",
       " 1,\n",
       " 1,\n",
       " 1,\n",
       " 1,\n",
       " 1,\n",
       " 1,\n",
       " 1,\n",
       " 1,\n",
       " 1,\n",
       " 1,\n",
       " 1,\n",
       " 1,\n",
       " 1,\n",
       " 1,\n",
       " 1,\n",
       " 1,\n",
       " 1,\n",
       " 1,\n",
       " 1,\n",
       " 1,\n",
       " 1,\n",
       " 1]"
      ]
     },
     "execution_count": 94,
     "metadata": {},
     "output_type": "execute_result"
    }
   ],
   "source": [
    "prediction_flag=[]\n",
    "def side(predictions,i):\n",
    "    if predictions[i] >= 0:\n",
    "        return 1\n",
    "    return 0\n",
    "\n",
    "for i in range(100):    \n",
    "    prediction_flag.append(side(predictions,i))\n",
    "prediction_flag\n",
    "    "
   ]
  },
  {
   "cell_type": "code",
   "execution_count": 66,
   "metadata": {},
   "outputs": [
    {
     "data": {
      "text/plain": [
       "<matplotlib.collections.PathCollection at 0x1dce138ea90>"
      ]
     },
     "execution_count": 66,
     "metadata": {},
     "output_type": "execute_result"
    },
    {
     "data": {
      "image/png": "[encoded data removed]",
      "text/plain": [
       "<Figure size 720x720 with 1 Axes>"
      ]
     },
     "metadata": {
      "needs_background": "light"
     },
     "output_type": "display_data"
    }
   ],
   "source": [
    "plt.figure(figsize=(10,10))\n",
    "plt.ylabel('X2')\n",
    "plt.xlabel('X1')\n",
    "plt.plot([linex1,linex2],[linex3,linex4])\n",
    "plt.scatter(data=df1,x='X1',y='X2',color='salmon' )\n",
    "plt.scatter(data=df2,x='X1',y='X2',color='violet' )\n"
   ]
  },
  {
   "cell_type": "code",
   "execution_count": 10,
   "metadata": {},
   "outputs": [
    {
     "data": {
      "text/plain": [
       "-0.063669"
      ]
     },
     "execution_count": 10,
     "metadata": {},
     "output_type": "execute_result"
    }
   ],
   "source": [
    "dd.X1[0]\n",
    "dd.X2[0]"
   ]
  },
  {
   "cell_type": "code",
   "execution_count": 70,
   "metadata": {},
   "outputs": [],
   "source": [
    "def perceptronStep(yy,prediction_flag,b,dd, learn_rate = 0.01):\n",
    "    for i in range(100):        \n",
    "        if yy[i]-prediction_flag[i] == -1:\n",
    "            Weight[0] += dd.X1[i]*learn_rate\n",
    "            Weight[1] += dd.X2[i]*learn_rate\n",
    "            b += learn_rate\n",
    "        elif yy[i]-prediction_flag[i] == 1:\n",
    "            Weight[0] -= dd.X1[i]*learn_rate\n",
    "            Weight[1] -= dd.X2[i]*learn_rate\n",
    "            b -= learn_rate\n",
    "    return Weight, b"
   ]
  },
  {
   "cell_type": "code",
   "execution_count": 91,
   "metadata": {},
   "outputs": [
    {
     "data": {
      "text/plain": [
       "(array([[8.88992  ],\n",
       "        [9.0386242]]), 5.099999999999998)"
      ]
     },
     "execution_count": 91,
     "metadata": {},
     "output_type": "execute_result"
    }
   ],
   "source": [
    "perceptronStep(yy,prediction_flag,b,dd, learn_rate = 0.1)"
   ]
  },
  {
   "cell_type": "code",
   "execution_count": 101,
   "metadata": {},
   "outputs": [
    {
     "data": {
      "text/plain": [
       "<matplotlib.collections.PathCollection at 0x1dce2c64400>"
      ]
     },
     "execution_count": 101,
     "metadata": {},
     "output_type": "execute_result"
    },
    {
     "data": {
      "image/png": "[encoded data removed]",
      "text/plain": [
       "<Figure size 720x720 with 1 Axes>"
      ]
     },
     "metadata": {
      "needs_background": "light"
     },
     "output_type": "display_data"
    }
   ],
   "source": [
    "plt.figure(figsize=(10,10))\n",
    "plt.ylabel('X2')\n",
    "plt.xlabel('X1')\n",
    "plt.plot([0,1],[1,0])\n",
    "plt.plot([1,0],[2,1])\n",
    "plt.plot([linex1,linex2],[linex3,linex4])\n",
    "plt.scatter(data=df1,x='X1',y='X2',color='salmon' )\n",
    "plt.scatter(data=df2,x='X1',y='X2',color='violet' )"
   ]
  },
  {
   "cell_type": "code",
   "execution_count": null,
   "metadata": {},
   "outputs": [],
   "source": []
  }
 ],
 "metadata": {
  "kernelspec": {
   "display_name": "Python [conda env:ai_python] *",
   "language": "python",
   "name": "conda-env-ai_python-py"
  },
  "language_info": {
   "codemirror_mode": {
    "name": "ipython",
    "version": 3
   },
   "file_extension": ".py",
   "mimetype": "text/x-python",
   "name": "python",
   "nbconvert_exporter": "python",
   "pygments_lexer": "ipython3",
   "version": "3.6.9"
  }
 },
 "nbformat": 4,
 "nbformat_minor": 2
}
