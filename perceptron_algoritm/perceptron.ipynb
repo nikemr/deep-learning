{
 "cells": [
  {
   "cell_type": "code",
   "execution_count": 1,
   "metadata": {},
   "outputs": [],
   "source": [
    "import numpy as np\n",
    "import pandas as pd\n",
    "import matplotlib.pyplot as plt\n",
    "#import seaborn as sb\n",
    "import csv\n",
    "%matplotlib inline"
   ]
  },
  {
   "cell_type": "code",
   "execution_count": 2,
   "metadata": {},
   "outputs": [],
   "source": [
    "#exampleFile = open('./perceptron_algoritym/data.csv')\n",
    "#exampleReader = csv.reader(exampleFile)\n",
    "#exampleData = list(exampleReader) \n",
    "exampleData=pd.read_csv('./data.csv')\n",
    "df=pd.DataFrame(data=exampleData)\n",
    "yy=df.y\n",
    "dd=pd.DataFrame(df, columns=['X1','X2'])\n",
    "values=dd.values"
   ]
  },
  {
   "cell_type": "code",
   "execution_count": 3,
   "metadata": {},
   "outputs": [],
   "source": [
    "#print(dd.X1.values)\n",
    "#print(df.head())\n",
    "#print(yy.head())\n",
    "#dd.X1[0]"
   ]
  },
  {
   "cell_type": "code",
   "execution_count": 4,
   "metadata": {},
   "outputs": [
    {
     "data": {
      "text/html": [
       "<div>\n",
       "<style scoped>\n",
       "    .dataframe tbody tr th:only-of-type {\n",
       "        vertical-align: middle;\n",
       "    }\n",
       "\n",
       "    .dataframe tbody tr th {\n",
       "        vertical-align: top;\n",
       "    }\n",
       "\n",
       "    .dataframe thead th {\n",
       "        text-align: right;\n",
       "    }\n",
       "</style>\n",
       "<table border=\"1\" class=\"dataframe\">\n",
       "  <thead>\n",
       "    <tr style=\"text-align: right;\">\n",
       "      <th></th>\n",
       "      <th>X1</th>\n",
       "      <th>X2</th>\n",
       "      <th>y</th>\n",
       "    </tr>\n",
       "  </thead>\n",
       "  <tbody>\n",
       "    <tr>\n",
       "      <th>0</th>\n",
       "      <td>0.78051</td>\n",
       "      <td>-0.063669</td>\n",
       "      <td>1</td>\n",
       "    </tr>\n",
       "    <tr>\n",
       "      <th>1</th>\n",
       "      <td>0.28774</td>\n",
       "      <td>0.291390</td>\n",
       "      <td>1</td>\n",
       "    </tr>\n",
       "    <tr>\n",
       "      <th>2</th>\n",
       "      <td>0.40714</td>\n",
       "      <td>0.178780</td>\n",
       "      <td>1</td>\n",
       "    </tr>\n",
       "    <tr>\n",
       "      <th>3</th>\n",
       "      <td>0.29230</td>\n",
       "      <td>0.421700</td>\n",
       "      <td>1</td>\n",
       "    </tr>\n",
       "    <tr>\n",
       "      <th>4</th>\n",
       "      <td>0.50922</td>\n",
       "      <td>0.352560</td>\n",
       "      <td>1</td>\n",
       "    </tr>\n",
       "  </tbody>\n",
       "</table>\n",
       "</div>"
      ],
      "text/plain": [
       "        X1        X2  y\n",
       "0  0.78051 -0.063669  1\n",
       "1  0.28774  0.291390  1\n",
       "2  0.40714  0.178780  1\n",
       "3  0.29230  0.421700  1\n",
       "4  0.50922  0.352560  1"
      ]
     },
     "execution_count": 4,
     "metadata": {},
     "output_type": "execute_result"
    }
   ],
   "source": [
    "#just for understanding data, it is not necessary\n",
    "df1=df[df.y==1]#label 1 (above)\n",
    "df2=df[df.y==0]#label 0 (below)\n",
    "df1.head()"
   ]
  },
  {
   "cell_type": "code",
   "execution_count": 5,
   "metadata": {},
   "outputs": [],
   "source": [
    "Weight = np.array(np.random.rand(2,1))\n",
    "b= (np.random.rand(1)[0])# Bias between 0 and 1"
   ]
  },
  {
   "cell_type": "code",
   "execution_count": 1,
   "metadata": {},
   "outputs": [
    {
     "ename": "NameError",
     "evalue": "name 'Weight' is not defined",
     "output_type": "error",
     "traceback": [
      "\u001b[1;31m---------------------------------------------------------------------------\u001b[0m",
      "\u001b[1;31mNameError\u001b[0m                                 Traceback (most recent call last)",
      "\u001b[1;32m<ipython-input-1-e8ef929431e2>\u001b[0m in \u001b[0;36m<module>\u001b[1;34m\u001b[0m\n\u001b[0;32m     38\u001b[0m     \u001b[1;32mreturn\u001b[0m \u001b[0mWeight\u001b[0m\u001b[1;33m,\u001b[0m \u001b[0mb\u001b[0m\u001b[1;33m\u001b[0m\u001b[1;33m\u001b[0m\u001b[0m\n\u001b[0;32m     39\u001b[0m \u001b[1;32mfor\u001b[0m \u001b[0mt\u001b[0m \u001b[1;32min\u001b[0m \u001b[0mrange\u001b[0m\u001b[1;33m(\u001b[0m\u001b[1;36m400\u001b[0m\u001b[1;33m)\u001b[0m\u001b[1;33m:\u001b[0m\u001b[1;33m\u001b[0m\u001b[1;33m\u001b[0m\u001b[0m\n\u001b[1;32m---> 40\u001b[1;33m     \u001b[0mx\u001b[0m\u001b[1;33m,\u001b[0m\u001b[0my\u001b[0m\u001b[1;33m=\u001b[0m\u001b[0mline\u001b[0m\u001b[1;33m(\u001b[0m\u001b[0mWeight\u001b[0m\u001b[1;33m,\u001b[0m\u001b[0mb\u001b[0m\u001b[1;33m)\u001b[0m\u001b[1;33m\u001b[0m\u001b[1;33m\u001b[0m\u001b[0m\n\u001b[0m\u001b[0;32m     41\u001b[0m     \u001b[0mperceptronStep\u001b[0m\u001b[1;33m(\u001b[0m\u001b[0myy\u001b[0m\u001b[1;33m,\u001b[0m\u001b[0mside\u001b[0m\u001b[1;33m(\u001b[0m\u001b[0mpredictions\u001b[0m\u001b[1;33m(\u001b[0m\u001b[0mdd\u001b[0m\u001b[1;33m.\u001b[0m\u001b[0mvalues\u001b[0m\u001b[1;33m,\u001b[0m\u001b[0mWeight\u001b[0m\u001b[1;33m,\u001b[0m\u001b[0mb\u001b[0m\u001b[1;33m)\u001b[0m\u001b[1;33m)\u001b[0m\u001b[1;33m,\u001b[0m\u001b[0mb\u001b[0m\u001b[1;33m,\u001b[0m\u001b[0mdd\u001b[0m\u001b[1;33m,\u001b[0m \u001b[0mlearn_rate\u001b[0m \u001b[1;33m=\u001b[0m \u001b[1;36m0.0001\u001b[0m\u001b[1;33m)\u001b[0m\u001b[1;33m\u001b[0m\u001b[1;33m\u001b[0m\u001b[0m\n\u001b[0;32m     42\u001b[0m \u001b[1;33m\u001b[0m\u001b[0m\n",
      "\u001b[1;31mNameError\u001b[0m: name 'Weight' is not defined"
     ]
    }
   ],
   "source": [
    "# multiplication\n",
    "#print(Weight[0]*dd.X1[0]+Weight[1]*dd.X2[0]+b)\n",
    "# numPy multiplication\n",
    "def predictions(values,Weight,b):    \n",
    "    pred=np.matmul(values,Weight)+b\n",
    "    return pred\n",
    "\n",
    "def side(predictions):\n",
    "    si=[]\n",
    "    for i in range(len(predictions)):\n",
    "        if predictions[i]>=0:\n",
    "            si.append(1)\n",
    "        else:\n",
    "             si.append(0)\n",
    "    return si    \n",
    "\n",
    "def line(Weight,b):#for drawing seperation line according to weight and biases\n",
    "    ys=[]\n",
    "    xs=[.1,.2,.3,.4,.5,.6,.7,.8,.0,1.0]\n",
    "    [ys.append((-(Weight[0]*xs[i])-b)/Weight[1]) for i in range(len(xs))]            \n",
    "    return xs,ys\n",
    "\n",
    "def perceptronStep(yy,side,b,dd,learn_rate = 0.001):\n",
    "    t=0\n",
    "    for i in range(100):\n",
    "        \n",
    "        if yy[i]-side[i] == -1:\n",
    "            Weight[0] -= dd.X1[i]*learn_rate\n",
    "            Weight[1] -= dd.X2[i]*learn_rate\n",
    "            b -= learn_rate\n",
    "        elif yy[i]-side[i] == 1:\n",
    "            Weight[0] += dd.X1[i]*learn_rate\n",
    "            Weight[1] += dd.X2[i]*learn_rate\n",
    "            b += learn_rate\n",
    "        if yy[i]-side[i]==0:\n",
    "            t+=1\n",
    "    print(\"right side\",t)    \n",
    "    return Weight, b\n",
    "for t in range(400):      \n",
    "    x,y=line(Weight,b)\n",
    "    perceptronStep(yy,side(predictions(dd.values,Weight,b)),b,dd, learn_rate = 0.0001)\n",
    "    \n",
    "        \n",
    "    \n",
    "    \n",
    "plt.plot(x,y,)\n",
    "\n",
    "plt.scatter(data=df1,x='X1',y='X2',color='salmon' )\n",
    "plt.scatter(data=df2,x='X1',y='X2',color='violet' )   \n",
    "\n",
    "    \n",
    "    \n",
    "    \n",
    " \n",
    "\n",
    "\n",
    "    \n",
    "\n"
   ]
  },
  {
   "cell_type": "code",
   "execution_count": null,
   "metadata": {},
   "outputs": [],
   "source": []
  },
  {
   "cell_type": "code",
   "execution_count": null,
   "metadata": {},
   "outputs": [],
   "source": []
  },
  {
   "cell_type": "code",
   "execution_count": null,
   "metadata": {},
   "outputs": [],
   "source": []
  }
 ],
 "metadata": {
  "kernelspec": {
   "display_name": "Python [conda env:ai_python] *",
   "language": "python",
   "name": "conda-env-ai_python-py"
  },
  "language_info": {
   "codemirror_mode": {
    "name": "ipython",
    "version": 3
   },
   "file_extension": ".py",
   "mimetype": "text/x-python",
   "name": "python",
   "nbconvert_exporter": "python",
   "pygments_lexer": "ipython3",
   "version": "3.6.9"
  }
 },
 "nbformat": 4,
 "nbformat_minor": 2
}
